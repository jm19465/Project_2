{
  "nbformat": 4,
  "nbformat_minor": 0,
  "metadata": {
    "colab": {
      "name": "Project_2.ipynb",
      "provenance": [],
      "collapsed_sections": [],
      "mount_file_id": "1QWsvR6c8ULp5EeaBjvkZGs08fnQlf_2v",
      "authorship_tag": "ABX9TyN5TmiRiuX5qfIIgirZaw8e",
      "include_colab_link": true
    },
    "kernelspec": {
      "name": "python3",
      "display_name": "Python 3"
    }
  },
  "cells": [
    {
      "cell_type": "markdown",
      "metadata": {
        "id": "view-in-github",
        "colab_type": "text"
      },
      "source": [
        "<a href=\"https://colab.research.google.com/github/jm19465/CE888/blob/master/Project_2/Project_2.ipynb\" target=\"_parent\"><img src=\"https://colab.research.google.com/assets/colab-badge.svg\" alt=\"Open In Colab\"/></a>"
      ]
    },
    {
      "cell_type": "code",
      "metadata": {
        "id": "hQnQst-lljz4",
        "colab_type": "code",
        "colab": {}
      },
      "source": [
        "import numpy as np\n",
        "import pandas as pd\n",
        "import matplotlib.pyplot as plt\n",
        "import seaborn as sns\n"
      ],
      "execution_count": 0,
      "outputs": []
    },
    {
      "cell_type": "code",
      "metadata": {
        "id": "5g13Althpmlh",
        "colab_type": "code",
        "colab": {}
      },
      "source": [
        "yst_df = pd.read_csv('Yeast.csv') #Yeast Type Classification KEEL Dataset (~93%)\n",
        "eco_df = pd.read_csv('Ecoli.csv') #Ecoli Type Classification KEEL Dataset (~84%)\n",
        "gls_df = pd.read_csv('Glass.csv') #Glass Type Identification KEEL Dataset (~65%)"
      ],
      "execution_count": 0,
      "outputs": []
    },
    {
      "cell_type": "code",
      "metadata": {
        "id": "a93USXiRsKMZ",
        "colab_type": "code",
        "outputId": "43d093bd-25ee-4209-c52b-2ef739c116a3",
        "colab": {
          "base_uri": "https://localhost:8080/",
          "height": 351
        }
      },
      "source": [
        "# Check for Dataset Imbalance\n",
        "\n",
        "yst_total = yst_df[\"Class\"]\n",
        "yst_neg = yst_total.value_counts()[0]/len(yst_total)\n",
        "yst_pos = yst_total.value_counts()[1]/len(yst_total)\n",
        "sns.countplot('Class', data = yst_df)\n",
        "plt.title('Yeast Dataset Class Distribution')\n",
        "plt.savefig('Yeast_Imbalance_Dist.png', dpi=300)\n",
        "print(\"Class '0': \",round(yst_neg,2),\"%\")\n",
        "print(\"Class '1': \",round(yst_pos,2),\"%\")\n",
        "print(\"Imbalance Ratio: \",round(yst_neg/yst_pos,2))"
      ],
      "execution_count": 0,
      "outputs": [
        {
          "output_type": "stream",
          "text": [
            "Class '0':  0.93 %\n",
            "Class '1':  0.07 %\n",
            "Imbalance Ratio:  14.3\n"
          ],
          "name": "stdout"
        },
        {
          "output_type": "display_data",
          "data": {
            "image/png": "[encoded data removed]",
            "text/plain": [
              "<Figure size 432x288 with 1 Axes>"
            ]
          },
          "metadata": {
            "tags": []
          }
        }
      ]
    },
    {
      "cell_type": "code",
      "metadata": {
        "id": "PmXHEs8G1cq6",
        "colab_type": "code",
        "outputId": "deefc62e-fde3-4d97-9b78-f99ee05c738c",
        "colab": {
          "base_uri": "https://localhost:8080/",
          "height": 351
        }
      },
      "source": [
        "# Check for Dataset Imbalance\n",
        "\n",
        "eco_total = eco_df[\"Class\"]\n",
        "eco_neg = eco_total.value_counts()[0]/len(eco_total)\n",
        "eco_pos = eco_total.value_counts()[1]/len(eco_total)\n",
        "sns.countplot('Class', data = eco_df)\n",
        "plt.title('Ecoli Dataset Class Distribution')\n",
        "plt.savefig('Ecoli_Imbalance_Dist.png', dpi=300)\n",
        "print(\"Class '0': \",round(eco_neg,2),\"%\")\n",
        "print(\"Class '1': \",round(eco_pos,2),\"%\")\n",
        "print(\"Imbalance Ratio: \",round(eco_neg/eco_pos,2))"
      ],
      "execution_count": 0,
      "outputs": [
        {
          "output_type": "stream",
          "text": [
            "Class '0':  0.85 %\n",
            "Class '1':  0.15 %\n",
            "Imbalance Ratio:  5.46\n"
          ],
          "name": "stdout"
        },
        {
          "output_type": "display_data",
          "data": {
            "image/png": "[encoded data removed]",
            "text/plain": [
              "<Figure size 432x288 with 1 Axes>"
            ]
          },
          "metadata": {
            "tags": []
          }
        }
      ]
    },
    {
      "cell_type": "code",
      "metadata": {
        "id": "OvTVaxmI5ZvX",
        "colab_type": "code",
        "outputId": "ed8782b5-8b9e-4398-cc63-ef99413fff51",
        "colab": {
          "base_uri": "https://localhost:8080/",
          "height": 351
        }
      },
      "source": [
        "# Check for Dataset Imbalance\n",
        "\n",
        "gls_total = gls_df[\"Class\"]\n",
        "gls_neg = gls_total.value_counts()[0]/len(gls_total)\n",
        "gls_pos = gls_total.value_counts()[1]/len(gls_total)\n",
        "sns.countplot('Class', data = gls_df)\n",
        "plt.title('Glass Dataset Class Distribution')\n",
        "plt.savefig('Glass_Imbalance_Dist.png', dpi=300)\n",
        "print(\"Class '0': \",round(gls_neg,2),\"%\")\n",
        "print(\"Class '1': \",round(gls_pos,2),\"%\")\n",
        "print(\"Imbalance Ratio: \",round(gls_neg/gls_pos,2))"
      ],
      "execution_count": 0,
      "outputs": [
        {
          "output_type": "stream",
          "text": [
            "Class '0':  0.64 %\n",
            "Class '1':  0.36 %\n",
            "Imbalance Ratio:  1.82\n"
          ],
          "name": "stdout"
        },
        {
          "output_type": "display_data",
          "data": {
            "image/png": "[encoded data removed]",
            "text/plain": [
              "<Figure size 432x288 with 1 Axes>"
            ]
          },
          "metadata": {
            "tags": []
          }
        }
      ]
    }
  ]
}